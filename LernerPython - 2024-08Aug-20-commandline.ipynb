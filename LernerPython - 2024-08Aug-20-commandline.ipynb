{
 "cells": [
  {
   "cell_type": "markdown",
   "metadata": {},
   "source": [
    "# Command-line programs in Python\n",
    "\n",
    "1. Introduction -- let's replace shell scripts!\n",
    "2. `argparse` -- getting arguments from the user in command-line programs\n",
    "3. Working with files\n",
    "    - `os`\n",
    "    - `shututil`\n",
    "4. Providing a command line / menu for the user (`Cmd`)\n",
    "5. Snazzier output with `rich`    "
   ]
  },
  {
   "cell_type": "markdown",
   "metadata": {},
   "source": [
    "# Let's replace shell scripts!\n",
    "\n",
    "On Unix, it's very common to write shell scripts -- that is, programs written in sh/bash/zsh. The good news is that bash and friends are full programming languges. So you can write very sophisticated programs in them.\n",
    "\n",
    "The bad news is that they lack serious data structures, programming structure, functions, objects, etc., that make it hard to write something serious that's also complex and long.\n",
    "\n",
    "You can, however, use Python for such things.  Instead of writing shell scripts, and instead of writing (overly complex) Java/C programs to get some input from the user on the command line and then do something with that input... we can just use Python.\n",
    "\n",
    "With Python, we then get a ton of advantages:\n",
    "\n",
    "- Serious data structures\n",
    "- Functions\n",
    "- Objects\n",
    "- Python's standard library\n",
    "- Access to PyPI and all of its packages\n",
    "\n",
    "Because of the way that Python works, we can take code that's common to many command-line programs we write and put that code into modules."
   ]
  },
  {
   "cell_type": "markdown",
   "metadata": {},
   "source": [
    "# Getting inputs with `argparse`\n",
    "\n",
    "When we run a program from the command line, we can pass it arguments.\n",
    "\n",
    "If I write a Python program that will take command-line arguments, how do I grab them?\n",
    "\n",
    "The simple answer is with `sys.argv`. This is a list of strings; the first (at index 0) is the name of the program, and every other element of the list is one argument that we got from the command interpreter.\n",
    "\n",
    "However, there are some serious problems with `sys.argv`:\n",
    "\n",
    "1. It's very inflexible; all arguments are passed as *positional arguments*.\n",
    "2. What about keyword arguments that can be in any order?\n",
    "3. What about checking for mandatory vs. optional arguments?\n",
    "4. What about longer names for some arguments?\n",
    "5. How about some form of type checking?\n",
    "6. How about help and documentation?"
   ]
  },
  {
   "cell_type": "markdown",
   "metadata": {},
   "source": [
    "# `argparse`\n",
    "\n",
    "`argparse` is in the Python standard library, and has been for many years. It handles all of the things that I just mentioned above -- types, options, named arguments, help, documentation, etc."
   ]
  },
  {
   "cell_type": "markdown",
   "metadata": {},
   "source": [
    "# Exercise: Greeting\n",
    "\n",
    "1. Write a program that uses `argparse` to get two arguments from the user, their first and last names.\n",
    "2. The names should be assigned to attributes named `first` and `last`.\n",
    "3. Print a nice greeting to the user using these attributes.\n",
    "\n",
    "Example:\n",
    "\n",
    "    $ greet.py Reuven Lerner\n",
    "    Hello, Reuven Lerner!"
   ]
  },
  {
   "cell_type": "markdown",
   "metadata": {},
   "source": [
    "# Exercise: Calculator\n",
    "\n",
    "1. Write a command-line program, `calc.py`, which takes three keyword arguments:\n",
    "    - `first` and `second` will be floats\n",
    "    - `op` is optional and defaults to `+`, but is a string value and is the operator we want to use\n",
    "2. When someone calls `calc.py` with numbers and an operator, we should do our best to perform the calculation and print the result. (You don't have to implement all possible operators!)\n",
    "\n",
    "Example:\n",
    "\n",
    "    $ calc.py -first 5 -second 7\n",
    "    5 + 7 = 12\n",
    "\n",
    "    $ calc.py -first 5 -second 9 -op '*'\n",
    "    5 * 9 = 45\n"
   ]
  },
  {
   "cell_type": "markdown",
   "metadata": {},
   "source": [
    "# Exercise: Headtail\n",
    "\n",
    "1. Unix has two utilities, `head` and `tail`, which show us a number of lines at the start of a file, or the end of a file, respectively.\n",
    "2. Write a program, `headtail`, that takes three arguments:\n",
    "    - `--head`, whose value is an integer indicating how many lines from the start of the file should be shown, with a default of 0\n",
    "    - `--tail`, whose value is an integer indicating how many lines from the end of the file should be shown, with a default of 0\n",
    "    - `--file`, the filename from which we'll read\n",
    "  \n",
    "We can assume, for our purposes here, that the file is small enough to read fully into memory."
   ]
  },
  {
   "cell_type": "markdown",
   "metadata": {},
   "source": [
    "# Next up:\n",
    "\n",
    "- File manipulations\n",
    "- Command interfaces with `Cmd`\n",
    "\n",
    "Resume at :45"
   ]
  },
  {
   "cell_type": "markdown",
   "metadata": {},
   "source": [
    "# Working with files\n",
    "\n",
    "It took me a long time to distinguish between the `sys` and `os` modules, both of which come with Python's standard library:\n",
    "\n",
    "- `sys` is the Python runtime engine. Anything that has to do with Python itself, as a language, is in `sys`: `sys.version`, or `sys.path`\n",
    "- `os` is Python's interface to the operating system, especially to the filesystem. Anything you want to do with files and directories, you can/should do via `os`. You can especially look at `os.path`, which has to do with file and directory names."
   ]
  },
  {
   "cell_type": "markdown",
   "metadata": {},
   "source": [
    "# Working with directories\n",
    "\n",
    "The most common answer I see to the question, \"How can I get a directory listing in Python?\" is to use `os.listdir`. You pass this function a string, a directory name, and you get back a list of strings, filenames in that directory."
   ]
  },
  {
   "cell_type": "code",
   "execution_count": 1,
   "metadata": {},
   "outputs": [
    {
     "data": {
      "text/plain": [
       "['xinetd.d-migrated2launchd',\n",
       " 'ssh_config.system_default',\n",
       " 'ssh_config.applesaved',\n",
       " 'periodic',\n",
       " 'manpaths',\n",
       " 'services~previous',\n",
       " 'rc.common',\n",
       " 'csh.logout~orig',\n",
       " 'auto_master',\n",
       " 'php.ini.default-5.2-previous~orig',\n",
       " 'csh.login',\n",
       " 'syslog.conf',\n",
       " 'rtadvd.conf~previous',\n",
       " 'syslog.conf~previous',\n",
       " 'krb5.keytab',\n",
       " 'sudoers.d',\n",
       " 'bash_completion.d',\n",
       " 'ssl',\n",
       " 'kern_loader.conf.applesaved',\n",
       " 'ttys~previous',\n",
       " 'csh.logout',\n",
       " 'aliases.db',\n",
       " 'hosts.lpd',\n",
       " 'bashrc_Apple_Terminal',\n",
       " 'racoon',\n",
       " 'snmp',\n",
       " 'zshrc_Apple_Terminal',\n",
       " 'named.conf.applesaved',\n",
       " 'gettytab',\n",
       " 'master.passwd~orig',\n",
       " 'kern_loader.conf',\n",
       " 'authorization.user_modified',\n",
       " 'networks~orig',\n",
       " 'paths.d',\n",
       " 'asl',\n",
       " 'csh.login~orig',\n",
       " 'rtadvd.conf',\n",
       " 'security',\n",
       " 'protocols~previous',\n",
       " 'group',\n",
       " 'printcap',\n",
       " 'auto_home',\n",
       " 'php.ini.default-previous',\n",
       " 'sudoers~',\n",
       " 'manpaths.d',\n",
       " 'smb.conf.applesaved',\n",
       " 'ppp',\n",
       " 'shells',\n",
       " 'pear.conf-previous',\n",
       " 'crontab',\n",
       " 'slpsa.conf.applesaved',\n",
       " 'rc.common~previous',\n",
       " 'xinetd.d',\n",
       " 'ttys',\n",
       " 'group~previous',\n",
       " 'paths',\n",
       " 'rmtab',\n",
       " 'csh.cshrc~orig',\n",
       " 'inetd.conf.applesaved',\n",
       " 'xtab',\n",
       " 'syslog.conf.applesaved',\n",
       " 'localtime',\n",
       " 'pf.conf',\n",
       " '6to4.conf.applesaved',\n",
       " 'CiscoSystemsVPNClient',\n",
       " 'launchd.conf',\n",
       " 'sudoers',\n",
       " 'ftpusers~orig',\n",
       " 'bashrc',\n",
       " 'find.codes~orig',\n",
       " 'auto_master~orig',\n",
       " 'newsyslog.d',\n",
       " 'emacs',\n",
       " 'irbrc',\n",
       " 'pam.d',\n",
       " 'zshrc',\n",
       " 'defaults',\n",
       " 'hosts.equiv',\n",
       " 'networks',\n",
       " 'find.codes',\n",
       " 'rpc~previous',\n",
       " 'apache2',\n",
       " 'autofs.conf',\n",
       " 'ssh',\n",
       " 'ftpusers',\n",
       " 'postgres-reg.ini',\n",
       " 'slpsa.conf',\n",
       " 'profile',\n",
       " 'csh.cshrc',\n",
       " 'fstab.hd~previous',\n",
       " 'ntp.conf.applesaved',\n",
       " 'ntp_opendirectory.conf',\n",
       " 'ssh_config~orig',\n",
       " 'profile~orig',\n",
       " 'authorization.deprecated',\n",
       " 'locate.rc',\n",
       " 'resolv.conf',\n",
       " 'nfs.conf',\n",
       " 'crontab.applesaved',\n",
       " 'dictionaries-common',\n",
       " 'sudoers~orig',\n",
       " 'sudo_lecture',\n",
       " 'asl.conf',\n",
       " 'ttys.applesaved',\n",
       " 'moduli~previous',\n",
       " 'rc.netboot',\n",
       " 'afpovertcp.cfg~orig',\n",
       " 'hosts~orig',\n",
       " 'fstab',\n",
       " 'opt',\n",
       " 'nfs.conf~orig',\n",
       " 'hostconfig',\n",
       " 'smb.conf.old',\n",
       " 'kern_loader.conf~previous',\n",
       " 'xinetd.conf.applesaved',\n",
       " 'rtadvd.conf.applesaved',\n",
       " 'sshd_config.system_default',\n",
       " 'hosts',\n",
       " 'efax.rc~previous',\n",
       " 'postfix',\n",
       " 'pf.os',\n",
       " 'pf.anchors',\n",
       " 'php.ini.default-previous~orig',\n",
       " 'ntp.conf',\n",
       " 'php.ini.default-5.2-previous',\n",
       " 'gettytab~orig',\n",
       " 'passwd~orig',\n",
       " 'rpc',\n",
       " 'master.passwd',\n",
       " 'sshd_config~previous',\n",
       " 'openldap',\n",
       " 'aliases',\n",
       " 'paths~orig',\n",
       " 'fonts',\n",
       " 'openssl',\n",
       " 'com.apple.screensharing.agent.launchd',\n",
       " 'wfs',\n",
       " 'hostconfig.system_default',\n",
       " 'shells~orig',\n",
       " 'sshd_config.applesaved',\n",
       " 'dumpdates',\n",
       " 'protocols',\n",
       " 'AFP.conf',\n",
       " 'cups',\n",
       " 'man.conf',\n",
       " 'services',\n",
       " 'mail.rc~orig',\n",
       " 'resolver',\n",
       " 'uucp',\n",
       " 'passwd',\n",
       " 'zprofile',\n",
       " 'afpovertcp.cfg',\n",
       " 'newsyslog.conf',\n",
       " 'bashrc~previous',\n",
       " 'mail.rc',\n",
       " 'notify.conf',\n",
       " 'sysctl.conf.pg']"
      ]
     },
     "execution_count": 1,
     "metadata": {},
     "output_type": "execute_result"
    }
   ],
   "source": [
    "import os\n",
    "\n",
    "os.listdir('/etc/')"
   ]
  },
  {
   "cell_type": "code",
   "execution_count": 2,
   "metadata": {},
   "outputs": [
    {
     "ename": "FileNotFoundError",
     "evalue": "[Errno 2] No such file or directory: '/asdfasfdaetc/'",
     "output_type": "error",
     "traceback": [
      "\u001b[0;31m---------------------------------------------------------------------------\u001b[0m",
      "\u001b[0;31mFileNotFoundError\u001b[0m                         Traceback (most recent call last)",
      "Cell \u001b[0;32mIn[2], line 1\u001b[0m\n\u001b[0;32m----> 1\u001b[0m \u001b[43mos\u001b[49m\u001b[38;5;241;43m.\u001b[39;49m\u001b[43mlistdir\u001b[49m\u001b[43m(\u001b[49m\u001b[38;5;124;43m'\u001b[39;49m\u001b[38;5;124;43m/asdfasfdaetc/\u001b[39;49m\u001b[38;5;124;43m'\u001b[39;49m\u001b[43m)\u001b[49m\n",
      "\u001b[0;31mFileNotFoundError\u001b[0m: [Errno 2] No such file or directory: '/asdfasfdaetc/'"
     ]
    }
   ],
   "source": [
    "os.listdir('/asdfasfdaetc/')"
   ]
  },
  {
   "cell_type": "markdown",
   "metadata": {},
   "source": [
    "# Problems with `os.listdir`\n",
    "\n",
    "1. The directory name is not a part of the filename.\n",
    "2. It includes all of the files and subdirectories, including those whose names start with `.`. You'll thus need to decide which files (and subdirectories) you want to deal with.\n",
    "3. It cannot handle patterns of any sort.\n",
    "4. It gives you all of the files in a directory.\n",
    "\n",
    "For all of these reasons, I generally prefer to use `glob.glob`. (The `glob` function in the `glob` module, in the standard library.)\n",
    "\n"
   ]
  },
  {
   "cell_type": "code",
   "execution_count": 3,
   "metadata": {},
   "outputs": [],
   "source": [
    "import glob"
   ]
  },
  {
   "cell_type": "code",
   "execution_count": 6,
   "metadata": {},
   "outputs": [
    {
     "data": {
      "text/plain": [
       "['/etc/xinetd.d-migrated2launchd',\n",
       " '/etc/ssh_config.system_default',\n",
       " '/etc/ssh_config.applesaved',\n",
       " '/etc/periodic',\n",
       " '/etc/manpaths',\n",
       " '/etc/services~previous',\n",
       " '/etc/rc.common',\n",
       " '/etc/csh.logout~orig',\n",
       " '/etc/auto_master',\n",
       " '/etc/php.ini.default-5.2-previous~orig',\n",
       " '/etc/csh.login',\n",
       " '/etc/syslog.conf',\n",
       " '/etc/rtadvd.conf~previous',\n",
       " '/etc/syslog.conf~previous',\n",
       " '/etc/krb5.keytab',\n",
       " '/etc/sudoers.d',\n",
       " '/etc/bash_completion.d',\n",
       " '/etc/ssl',\n",
       " '/etc/kern_loader.conf.applesaved',\n",
       " '/etc/ttys~previous',\n",
       " '/etc/csh.logout',\n",
       " '/etc/aliases.db',\n",
       " '/etc/hosts.lpd',\n",
       " '/etc/bashrc_Apple_Terminal',\n",
       " '/etc/racoon',\n",
       " '/etc/snmp',\n",
       " '/etc/zshrc_Apple_Terminal',\n",
       " '/etc/named.conf.applesaved',\n",
       " '/etc/gettytab',\n",
       " '/etc/master.passwd~orig',\n",
       " '/etc/kern_loader.conf',\n",
       " '/etc/authorization.user_modified',\n",
       " '/etc/networks~orig',\n",
       " '/etc/paths.d',\n",
       " '/etc/asl',\n",
       " '/etc/csh.login~orig',\n",
       " '/etc/rtadvd.conf',\n",
       " '/etc/security',\n",
       " '/etc/protocols~previous',\n",
       " '/etc/group',\n",
       " '/etc/printcap',\n",
       " '/etc/auto_home',\n",
       " '/etc/php.ini.default-previous',\n",
       " '/etc/sudoers~',\n",
       " '/etc/manpaths.d',\n",
       " '/etc/smb.conf.applesaved',\n",
       " '/etc/ppp',\n",
       " '/etc/shells',\n",
       " '/etc/pear.conf-previous',\n",
       " '/etc/crontab',\n",
       " '/etc/slpsa.conf.applesaved',\n",
       " '/etc/rc.common~previous',\n",
       " '/etc/xinetd.d',\n",
       " '/etc/ttys',\n",
       " '/etc/group~previous',\n",
       " '/etc/paths',\n",
       " '/etc/rmtab',\n",
       " '/etc/csh.cshrc~orig',\n",
       " '/etc/inetd.conf.applesaved',\n",
       " '/etc/xtab',\n",
       " '/etc/syslog.conf.applesaved',\n",
       " '/etc/localtime',\n",
       " '/etc/pf.conf',\n",
       " '/etc/6to4.conf.applesaved',\n",
       " '/etc/CiscoSystemsVPNClient',\n",
       " '/etc/launchd.conf',\n",
       " '/etc/sudoers',\n",
       " '/etc/ftpusers~orig',\n",
       " '/etc/bashrc',\n",
       " '/etc/find.codes~orig',\n",
       " '/etc/auto_master~orig',\n",
       " '/etc/newsyslog.d',\n",
       " '/etc/emacs',\n",
       " '/etc/irbrc',\n",
       " '/etc/pam.d',\n",
       " '/etc/zshrc',\n",
       " '/etc/defaults',\n",
       " '/etc/hosts.equiv',\n",
       " '/etc/networks',\n",
       " '/etc/find.codes',\n",
       " '/etc/rpc~previous',\n",
       " '/etc/apache2',\n",
       " '/etc/autofs.conf',\n",
       " '/etc/ssh',\n",
       " '/etc/ftpusers',\n",
       " '/etc/postgres-reg.ini',\n",
       " '/etc/slpsa.conf',\n",
       " '/etc/profile',\n",
       " '/etc/csh.cshrc',\n",
       " '/etc/fstab.hd~previous',\n",
       " '/etc/ntp.conf.applesaved',\n",
       " '/etc/ntp_opendirectory.conf',\n",
       " '/etc/ssh_config~orig',\n",
       " '/etc/profile~orig',\n",
       " '/etc/authorization.deprecated',\n",
       " '/etc/locate.rc',\n",
       " '/etc/resolv.conf',\n",
       " '/etc/nfs.conf',\n",
       " '/etc/crontab.applesaved',\n",
       " '/etc/dictionaries-common',\n",
       " '/etc/sudoers~orig',\n",
       " '/etc/sudo_lecture',\n",
       " '/etc/asl.conf',\n",
       " '/etc/ttys.applesaved',\n",
       " '/etc/moduli~previous',\n",
       " '/etc/rc.netboot',\n",
       " '/etc/afpovertcp.cfg~orig',\n",
       " '/etc/hosts~orig',\n",
       " '/etc/fstab',\n",
       " '/etc/opt',\n",
       " '/etc/nfs.conf~orig',\n",
       " '/etc/hostconfig',\n",
       " '/etc/smb.conf.old',\n",
       " '/etc/kern_loader.conf~previous',\n",
       " '/etc/xinetd.conf.applesaved',\n",
       " '/etc/rtadvd.conf.applesaved',\n",
       " '/etc/sshd_config.system_default',\n",
       " '/etc/hosts',\n",
       " '/etc/efax.rc~previous',\n",
       " '/etc/postfix',\n",
       " '/etc/pf.os',\n",
       " '/etc/pf.anchors',\n",
       " '/etc/php.ini.default-previous~orig',\n",
       " '/etc/ntp.conf',\n",
       " '/etc/php.ini.default-5.2-previous',\n",
       " '/etc/gettytab~orig',\n",
       " '/etc/passwd~orig',\n",
       " '/etc/rpc',\n",
       " '/etc/master.passwd',\n",
       " '/etc/sshd_config~previous',\n",
       " '/etc/openldap',\n",
       " '/etc/aliases',\n",
       " '/etc/paths~orig',\n",
       " '/etc/fonts',\n",
       " '/etc/openssl',\n",
       " '/etc/com.apple.screensharing.agent.launchd',\n",
       " '/etc/wfs',\n",
       " '/etc/hostconfig.system_default',\n",
       " '/etc/shells~orig',\n",
       " '/etc/sshd_config.applesaved',\n",
       " '/etc/dumpdates',\n",
       " '/etc/protocols',\n",
       " '/etc/AFP.conf',\n",
       " '/etc/cups',\n",
       " '/etc/man.conf',\n",
       " '/etc/services',\n",
       " '/etc/mail.rc~orig',\n",
       " '/etc/resolver',\n",
       " '/etc/uucp',\n",
       " '/etc/passwd',\n",
       " '/etc/zprofile',\n",
       " '/etc/afpovertcp.cfg',\n",
       " '/etc/newsyslog.conf',\n",
       " '/etc/bashrc~previous',\n",
       " '/etc/mail.rc',\n",
       " '/etc/notify.conf',\n",
       " '/etc/sysctl.conf.pg']"
      ]
     },
     "execution_count": 6,
     "metadata": {},
     "output_type": "execute_result"
    }
   ],
   "source": [
    "glob.glob('/etc/*')"
   ]
  },
  {
   "cell_type": "code",
   "execution_count": 7,
   "metadata": {},
   "outputs": [
    {
     "data": {
      "text/plain": [
       "['/etc/syslog.conf',\n",
       " '/etc/kern_loader.conf',\n",
       " '/etc/rtadvd.conf',\n",
       " '/etc/pf.conf',\n",
       " '/etc/launchd.conf',\n",
       " '/etc/autofs.conf',\n",
       " '/etc/slpsa.conf',\n",
       " '/etc/ntp_opendirectory.conf',\n",
       " '/etc/resolv.conf',\n",
       " '/etc/nfs.conf',\n",
       " '/etc/asl.conf',\n",
       " '/etc/ntp.conf',\n",
       " '/etc/AFP.conf',\n",
       " '/etc/man.conf',\n",
       " '/etc/newsyslog.conf',\n",
       " '/etc/notify.conf']"
      ]
     },
     "execution_count": 7,
     "metadata": {},
     "output_type": "execute_result"
    }
   ],
   "source": [
    "glob.glob('/etc/*.conf')"
   ]
  },
  {
   "cell_type": "markdown",
   "metadata": {},
   "source": [
    "# Issues opening files\n",
    "\n",
    "When you open a file for reading, you might encounter a number of different types of exceptions:\n",
    "\n",
    "- Permissions: You might not be allowed to open the file for reading\n",
    "- Non-text: The file might be binary, and thus trying to read it into a string will cause an error (UnicodeDecodeError, I think)\n",
    "- Non-existent: Sometimes, you'll have this problem if there are aliases to a file\n",
    "\n",
    "Use `try` and `except` to make sure that these problems are covered. "
   ]
  },
  {
   "cell_type": "markdown",
   "metadata": {},
   "source": [
    "# Exercise: `dirgrep`\n",
    "\n",
    "`grep` is a famous program that lets you search (with regular expressions) through one or more files. We're not going to use regular expressions, but we will ask the user to enter a directory and a string:\n",
    "\n",
    "- The program will take a `dirname` argument, the name of a directory\n",
    "- The program will take a `text` argument, the text we should look for in each file in the directory\n",
    "\n",
    "Go through each file in `dirname`, look for `text`. Print each line (with its filename and line number) in which you find text in each of those files."
   ]
  },
  {
   "cell_type": "markdown",
   "metadata": {},
   "source": [
    "# Running external programs\n",
    "\n",
    "The recommended way to do this is with `subprocess.run`. It takes a lot of options, and we won't go into them here, but there ways to pass arguments, get text back, etc."
   ]
  },
  {
   "cell_type": "code",
   "execution_count": 9,
   "metadata": {},
   "outputs": [
    {
     "name": "stdout",
     "output_type": "stream",
     "text": [
      "LernerPython - 2024-08Aug-20-commandline.ipynb\n",
      "calc.py\n",
      "calc.py~\n",
      "calc2.py\n",
      "calc2.py~\n",
      "dirgrep.py\n",
      "dirgrep.py~\n",
      "greet.py\n",
      "greet.py~\n",
      "headtail.py\n",
      "headtail.py~\n",
      "myargs1.py\n",
      "myargs1.py~\n",
      "myargs2.py\n",
      "myargs2.py~\n",
      "myargs3.py\n",
      "myargs3.py~\n",
      "myargs4.py\n",
      "myargs4.py~\n",
      "simpleargs.py\n",
      "simpleargs.py~\n"
     ]
    }
   ],
   "source": [
    "import subprocess\n",
    "\n",
    "output = subprocess.run('ls')"
   ]
  },
  {
   "cell_type": "code",
   "execution_count": 10,
   "metadata": {},
   "outputs": [
    {
     "data": {
      "text/plain": [
       "subprocess.CompletedProcess"
      ]
     },
     "execution_count": 10,
     "metadata": {},
     "output_type": "execute_result"
    }
   ],
   "source": [
    "type(output)"
   ]
  },
  {
   "cell_type": "code",
   "execution_count": 11,
   "metadata": {},
   "outputs": [],
   "source": [
    "# to get the values back from subprocess.run, we need to say capture_output=True\n",
    "\n",
    "output = subprocess.run('ls', capture_output=True)"
   ]
  },
  {
   "cell_type": "code",
   "execution_count": 12,
   "metadata": {},
   "outputs": [
    {
     "data": {
      "text/plain": [
       "CompletedProcess(args='ls', returncode=0, stdout=b'LernerPython - 2024-08Aug-20-commandline.ipynb\\ncalc.py\\ncalc.py~\\ncalc2.py\\ncalc2.py~\\ndirgrep.py\\ndirgrep.py~\\ngreet.py\\ngreet.py~\\nheadtail.py\\nheadtail.py~\\nmyargs1.py\\nmyargs1.py~\\nmyargs2.py\\nmyargs2.py~\\nmyargs3.py\\nmyargs3.py~\\nmyargs4.py\\nmyargs4.py~\\nsimpleargs.py\\nsimpleargs.py~\\n', stderr=b'')"
      ]
     },
     "execution_count": 12,
     "metadata": {},
     "output_type": "execute_result"
    }
   ],
   "source": [
    "output"
   ]
  },
  {
   "cell_type": "code",
   "execution_count": 15,
   "metadata": {},
   "outputs": [
    {
     "data": {
      "text/plain": [
       "['LernerPython',\n",
       " '-',\n",
       " '2024-08Aug-20-commandline.ipynb',\n",
       " 'calc.py',\n",
       " 'calc.py~',\n",
       " 'calc2.py',\n",
       " 'calc2.py~',\n",
       " 'dirgrep.py',\n",
       " 'dirgrep.py~',\n",
       " 'greet.py',\n",
       " 'greet.py~',\n",
       " 'headtail.py',\n",
       " 'headtail.py~',\n",
       " 'myargs1.py',\n",
       " 'myargs1.py~',\n",
       " 'myargs2.py',\n",
       " 'myargs2.py~',\n",
       " 'myargs3.py',\n",
       " 'myargs3.py~',\n",
       " 'myargs4.py',\n",
       " 'myargs4.py~',\n",
       " 'simpleargs.py',\n",
       " 'simpleargs.py~']"
      ]
     },
     "execution_count": 15,
     "metadata": {},
     "output_type": "execute_result"
    }
   ],
   "source": [
    "output.stdout.decode().split()"
   ]
  },
  {
   "cell_type": "code",
   "execution_count": 16,
   "metadata": {},
   "outputs": [
    {
     "name": "stdout",
     "output_type": "stream",
     "text": [
      "Help on function run in module subprocess:\n",
      "\n",
      "run(*popenargs, input=None, capture_output=False, timeout=None, check=False, **kwargs)\n",
      "    Run command with arguments and return a CompletedProcess instance.\n",
      "\n",
      "    The returned instance will have attributes args, returncode, stdout and\n",
      "    stderr. By default, stdout and stderr are not captured, and those attributes\n",
      "    will be None. Pass stdout=PIPE and/or stderr=PIPE in order to capture them,\n",
      "    or pass capture_output=True to capture both.\n",
      "\n",
      "    If check is True and the exit code was non-zero, it raises a\n",
      "    CalledProcessError. The CalledProcessError object will have the return code\n",
      "    in the returncode attribute, and output & stderr attributes if those streams\n",
      "    were captured.\n",
      "\n",
      "    If timeout is given, and the process takes too long, a TimeoutExpired\n",
      "    exception will be raised.\n",
      "\n",
      "    There is an optional argument \"input\", allowing you to\n",
      "    pass bytes or a string to the subprocess's stdin.  If you use this argument\n",
      "    you may not also use the Popen constructor's \"stdin\" argument, as\n",
      "    it will be used internally.\n",
      "\n",
      "    By default, all communication is in bytes, and therefore any \"input\" should\n",
      "    be bytes, and the stdout and stderr will be bytes. If in text mode, any\n",
      "    \"input\" should be a string, and stdout and stderr will be strings decoded\n",
      "    according to locale encoding, or by \"encoding\" if set. Text mode is\n",
      "    triggered by setting any of text, encoding, errors or universal_newlines.\n",
      "\n",
      "    The other arguments are the same as for the Popen constructor.\n",
      "\n"
     ]
    }
   ],
   "source": [
    "help(subprocess.run)"
   ]
  },
  {
   "cell_type": "markdown",
   "metadata": {},
   "source": [
    "# Giving a menu of commands\n",
    "\n",
    "If someone has run our program, we might want to let them choose from a variety of commands to run. The `cmd` module provides us with a nice way to handle this functionality. \n",
    "\n",
    "To create this:\n",
    "\n",
    "- `import cmd`\n",
    "- Define a class that inherits from `cmd.Cmd`\n",
    "- We create an instance of our class, and then immediately invoke `cmdloop` on it\n",
    "\n",
    "To create a new command in our menu:\n",
    "- Define a method called `do_SOMETHING`. Whatever we call `SOMETHING` will then be a command that people can use\n",
    "- The method will take `self` (as always) and a string, the line that the user gave\n",
    "- We can do whatever we want with that line\n"
   ]
  },
  {
   "cell_type": "markdown",
   "metadata": {},
   "source": [
    "# Shebang line\n",
    "\n",
    "- If you're in Unix/Linux/MacOS\n",
    "- If the file is executable\n",
    "- If the first line of the file is `#!SOMETHING`\n",
    "\n",
    "Then Unix will run `SOMETHING`, passing it the rest of the file as input.\n",
    "\n",
    "So if we say `#!/usr/bin/env python3` at the top of the file, it's equivalent to saying\n",
    "\n",
    "    python3 FILENAME.py"
   ]
  },
  {
   "cell_type": "markdown",
   "metadata": {},
   "source": [
    "# Exercise: File manipulations\n",
    "\n",
    "- Create a program, `filestuff.py`, that when we run it, gives us a prompt at which we can enter one of several commands:\n",
    "    - length FILENAME, which returns the length of a file. (You can either iterate over it, or use `os.stat`\n",
    "    - reverse FILENAME OUTFILENAME, which writes the contents of FILENAME to OUTFILENAME, where each line is reversed\n",
    "    - quit, to exit from the program\n"
   ]
  },
  {
   "cell_type": "code",
   "execution_count": null,
   "metadata": {},
   "outputs": [],
   "source": []
  }
 ],
 "metadata": {
  "kernelspec": {
   "display_name": "Python 3 (ipykernel)",
   "language": "python",
   "name": "python3"
  },
  "language_info": {
   "codemirror_mode": {
    "name": "ipython",
    "version": 3
   },
   "file_extension": ".py",
   "mimetype": "text/x-python",
   "name": "python",
   "nbconvert_exporter": "python",
   "pygments_lexer": "ipython3",
   "version": "3.12.1"
  }
 },
 "nbformat": 4,
 "nbformat_minor": 4
}
