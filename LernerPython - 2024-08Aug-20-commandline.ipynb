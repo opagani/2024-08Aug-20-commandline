{
 "cells": [
  {
   "cell_type": "markdown",
   "metadata": {},
   "source": [
    "# Command-line programs in Python\n",
    "\n",
    "1. Introduction -- let's replace shell scripts!\n",
    "2. `argparse` -- getting arguments from the user in command-line programs\n",
    "3. Working with files\n",
    "    - `os`\n",
    "    - `shututil`\n",
    "4. Providing a command line / menu for the user (`Cmd`)\n",
    "5. Snazzier output with `rich`    "
   ]
  },
  {
   "cell_type": "markdown",
   "metadata": {},
   "source": [
    "# Let's replace shell scripts!\n",
    "\n",
    "On Unix, it's very common to write shell scripts -- that is, programs written in sh/bash/zsh. The good news is that bash and friends are full programming languges. So you can write very sophisticated programs in them.\n",
    "\n",
    "The bad news is that they lack serious data structures, programming structure, functions, objects, etc., that make it hard to write something serious that's also complex and long.\n",
    "\n",
    "You can, however, use Python for such things.  Instead of writing shell scripts, and instead of writing (overly complex) Java/C programs to get some input from the user on the command line and then do something with that input... we can just use Python.\n",
    "\n",
    "With Python, we then get a ton of advantages:\n",
    "\n",
    "- Serious data structures\n",
    "- Functions\n",
    "- Objects\n",
    "- Python's standard library\n",
    "- Access to PyPI and all of its packages\n",
    "\n",
    "Because of the way that Python works, we can take code that's common to many command-line programs we write and put that code into modules."
   ]
  },
  {
   "cell_type": "markdown",
   "metadata": {},
   "source": [
    "# Getting inputs with `argparse`\n",
    "\n",
    "When we run a program from the command line, we can pass it arguments.\n",
    "\n",
    "If I write a Python program that will take command-line arguments, how do I grab them?\n",
    "\n",
    "The simple answer is with `sys.argv`. This is a list of strings; the first (at index 0) is the name of the program, and every other element of the list is one argument that we got from the command interpreter.\n",
    "\n",
    "However, there are some serious problems with `sys.argv`:\n",
    "\n",
    "1. It's very inflexible; all arguments are passed as *positional arguments*.\n",
    "2. What about keyword arguments that can be in any order?\n",
    "3. What about checking for mandatory vs. optional arguments?\n",
    "4. What about longer names for some arguments?\n",
    "5. How about some form of type checking?\n",
    "6. How about help and documentation?"
   ]
  },
  {
   "cell_type": "markdown",
   "metadata": {},
   "source": [
    "# `argparse`\n",
    "\n",
    "`argparse` is in the Python standard library, and has been for many years. It handles all of the things that I just mentioned above -- types, options, named arguments, help, documentation, etc."
   ]
  },
  {
   "cell_type": "markdown",
   "metadata": {},
   "source": [
    "# Exercise: Greeting\n",
    "\n",
    "1. Write a program that uses `argparse` to get two arguments from the user, their first and last names.\n",
    "2. The names should be assigned to attributes named `first` and `last`.\n",
    "3. Print a nice greeting to the user using these attributes.\n",
    "\n",
    "Example:\n",
    "\n",
    "    $ greet.py Reuven Lerner\n",
    "    Hello, Reuven Lerner!"
   ]
  },
  {
   "cell_type": "markdown",
   "metadata": {},
   "source": [
    "# Exercise: Calculator\n",
    "\n",
    "1. Write a command-line program, `calc.py`, which takes three keyword arguments:\n",
    "    - `first` and `second` will be floats\n",
    "    - `op` is optional and defaults to `+`, but is a string value and is the operator we want to use\n",
    "2. When someone calls `calc.py` with numbers and an operator, we should do our best to perform the calculation and print the result. (You don't have to implement all possible operators!)\n",
    "\n",
    "Example:\n",
    "\n",
    "    $ calc.py -first 5 -second 7\n",
    "    5 + 7 = 12\n",
    "\n",
    "    $ calc.py -first 5 -second 9 -op '*'\n",
    "    5 * 9 = 45\n"
   ]
  },
  {
   "cell_type": "markdown",
   "metadata": {},
   "source": [
    "# Exercise: Headtail\n",
    "\n",
    "1. Unix has two utilities, `head` and `tail`, which show us a number of lines at the start of a file, or the end of a file, respectively.\n",
    "2. Write a program, `headtail`, that takes three arguments:\n",
    "    - `--head`, whose value is an integer indicating how many lines from the start of the file should be shown, with a default of 0\n",
    "    - `--tail`, whose value is an integer indicating how many lines from the end of the file should be shown, with a default of 0\n",
    "    - `--file`, the filename from which we'll read\n",
    "  \n",
    "We can assume, for our purposes here, that the file is small enough to read fully into memory."
   ]
  },
  {
   "cell_type": "code",
   "execution_count": null,
   "metadata": {},
   "outputs": [],
   "source": []
  }
 ],
 "metadata": {
  "kernelspec": {
   "display_name": "Python 3 (ipykernel)",
   "language": "python",
   "name": "python3"
  },
  "language_info": {
   "codemirror_mode": {
    "name": "ipython",
    "version": 3
   },
   "file_extension": ".py",
   "mimetype": "text/x-python",
   "name": "python",
   "nbconvert_exporter": "python",
   "pygments_lexer": "ipython3",
   "version": "3.12.1"
  }
 },
 "nbformat": 4,
 "nbformat_minor": 4
}
