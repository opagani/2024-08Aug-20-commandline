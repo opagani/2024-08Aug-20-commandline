{
 "cells": [
  {
   "cell_type": "markdown",
   "metadata": {},
   "source": [
    "# Command-line programs in Python\n",
    "\n",
    "1. Introduction -- let's replace shell scripts!\n",
    "2. `argparse` -- getting arguments from the user in command-line programs\n",
    "3. Working with files\n",
    "    - `os`\n",
    "    - `shututil`\n",
    "4. Providing a command line / menu for the user (`Cmd`)\n",
    "5. Snazzier output with `rich`    "
   ]
  },
  {
   "cell_type": "markdown",
   "metadata": {},
   "source": [
    "# Let's replace shell scripts!\n",
    "\n",
    "On Unix, it's very common to write shell scripts -- that is, programs written in sh/bash/zsh. The good news is that bash and friends are full programming languges. So you can write very sophisticated programs in them.\n",
    "\n",
    "The bad news is that they lack serious data structures, programming structure, functions, objects, etc., that make it hard to write something serious that's also complex and long.\n",
    "\n",
    "You can, however, use Python for such things.  Instead of writing shell scripts, and instead of writing (overly complex) Java/C programs to get some input from the user on the command line and then do something with that input... we can just use Python.\n",
    "\n",
    "With Python, we then get a ton of advantages:\n",
    "\n",
    "- Serious data structures\n",
    "- Functions\n",
    "- Objects\n",
    "- Python's standard library\n",
    "- Access to PyPI and all of its packages"
   ]
  }
 ],
 "metadata": {
  "kernelspec": {
   "display_name": "Python 3 (ipykernel)",
   "language": "python",
   "name": "python3"
  },
  "language_info": {
   "codemirror_mode": {
    "name": "ipython",
    "version": 3
   },
   "file_extension": ".py",
   "mimetype": "text/x-python",
   "name": "python",
   "nbconvert_exporter": "python",
   "pygments_lexer": "ipython3",
   "version": "3.12.1"
  }
 },
 "nbformat": 4,
 "nbformat_minor": 4
}
