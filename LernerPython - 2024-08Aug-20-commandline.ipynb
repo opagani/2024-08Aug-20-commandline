{
 "cells": [
  {
   "cell_type": "markdown",
   "metadata": {},
   "source": [
    "# Command-line programs in Python\n",
    "\n",
    "1. Introduction -- let's replace shell scripts!\n",
    "2. `argparse` -- getting arguments from the user in command-line programs\n",
    "3. Working with files\n",
    "    - `os`\n",
    "    - `shututil`\n",
    "4. Providing a command line / menu for the user (`Cmd`)\n",
    "5. Snazzier output with `rich`    "
   ]
  },
  {
   "cell_type": "code",
   "execution_count": null,
   "metadata": {},
   "outputs": [],
   "source": []
  }
 ],
 "metadata": {
  "kernelspec": {
   "display_name": "Python 3 (ipykernel)",
   "language": "python",
   "name": "python3"
  },
  "language_info": {
   "codemirror_mode": {
    "name": "ipython",
    "version": 3
   },
   "file_extension": ".py",
   "mimetype": "text/x-python",
   "name": "python",
   "nbconvert_exporter": "python",
   "pygments_lexer": "ipython3",
   "version": "3.12.1"
  }
 },
 "nbformat": 4,
 "nbformat_minor": 4
}
